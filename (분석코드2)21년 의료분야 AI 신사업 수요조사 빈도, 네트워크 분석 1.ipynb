{
 "cells": [
  {
   "cell_type": "code",
   "execution_count": 1,
   "metadata": {},
   "outputs": [],
   "source": [
    "import pandas as pd\n",
    "import re"
   ]
  },
  {
   "cell_type": "markdown",
   "metadata": {},
   "source": [
    "# # # 텍스트파일 데이터 가져오기#"
   ]
  },
  {
   "cell_type": "markdown",
   "metadata": {},
   "source": [
    "all.txt - 21년도 의료분야 ai 신규 사업 선정을 위해 135명의 전문가들을 대상으로 수요조사를 실시\n",
    "- 전문가들은 연구명, 연구내용을 구체적으로 작성(텍스트 형태 - 엑셀)\n",
    "\n",
    "전처리\n",
    "- 1. 연구명과 연구내용을 한 셀로 합침\n",
    "- 2. 여러줄로 구성된 내용을 한 연구에 한줄로 만듬 - clean엑셀함수\n",
    "- 3. 결과적으로 135줄의 텍스트 파일 생성\n",
    "- 4. 엑셀로 합친 데이터를 메모장으로 옮김"
   ]
  },
  {
   "cell_type": "code",
   "execution_count": 2,
   "metadata": {},
   "outputs": [],
   "source": [
    "f=open(\"all.txt\",\"r\",encoding='UTF-8')\n",
    "lines=f.readlines()\n",
    "f.close()"
   ]
  },
  {
   "cell_type": "code",
   "execution_count": 50,
   "metadata": {},
   "outputs": [],
   "source": [
    "####lines[:3]"
   ]
  },
  {
   "cell_type": "code",
   "execution_count": 3,
   "metadata": {
    "scrolled": true
   },
   "outputs": [
    {
     "data": {
      "text/plain": [
       "list"
      ]
     },
     "execution_count": 3,
     "metadata": {},
     "output_type": "execute_result"
    }
   ],
   "source": [
    "type(lines)"
   ]
  },
  {
   "cell_type": "markdown",
   "metadata": {},
   "source": [
    "데이터 형태\n",
    "- 총 135 줄의 1차원 리스트 형태의 데이터 받음"
   ]
  },
  {
   "cell_type": "markdown",
   "metadata": {},
   "source": [
    "konlpy에서 Hannanum 임포트\n",
    "\n",
    "dataset = [] 만들고 형태소 분석된 결과를 append"
   ]
  },
  {
   "cell_type": "code",
   "execution_count": 4,
   "metadata": {},
   "outputs": [],
   "source": [
    "from konlpy.tag import Hannanum\n",
    "hannanum=Hannanum()"
   ]
  },
  {
   "cell_type": "code",
   "execution_count": 5,
   "metadata": {},
   "outputs": [],
   "source": [
    "dataset = []\n",
    "\n",
    "for i in range(len(lines)):\n",
    "    dataset.append(hannanum.nouns(re.sub('[^가-힣a-zA-Z\\s]', '',lines[i])))"
   ]
  },
  {
   "cell_type": "code",
   "execution_count": 6,
   "metadata": {},
   "outputs": [],
   "source": [
    "###print(dataset[:3])"
   ]
  },
  {
   "cell_type": "markdown",
   "metadata": {},
   "source": [
    " * 결과적으로 2차원 형태의 리스트 생성"
   ]
  },
  {
   "cell_type": "markdown",
   "metadata": {},
   "source": [
    "## ############불용어 제거 ###########ㅁㄴㅇㄹ"
   ]
  },
  {
   "cell_type": "code",
   "execution_count": 7,
   "metadata": {},
   "outputs": [],
   "source": [
    "stop=['다중','개발','환자','분석','확보','구축','기반','학습','모델','단계','기술','의료','지능','이용','활용','연구','대한','통해','년도','시스템','정보','평가','자료','셋','방법','통한','병원','러닝','기준','형태','경우','파이썬','현황','원인','때문','별로','여러','거나','기구','업그레이드','사용','등','값','분석결과','수집','프로그램','것','수','진행','성능']"
   ]
  },
  {
   "cell_type": "markdown",
   "metadata": {},
   "source": [
    "* 제거하고 싶은 단어 목록을 stop 리스트에 저장"
   ]
  },
  {
   "cell_type": "code",
   "execution_count": 8,
   "metadata": {},
   "outputs": [],
   "source": [
    "for i in range(len(dataset)):\n",
    "    for j in range(len(dataset[i])):\n",
    "        for k in stop :\n",
    "            if k in dataset[i]:\n",
    "                dataset[i].remove(k)"
   ]
  },
  {
   "cell_type": "markdown",
   "metadata": {},
   "source": [
    "* 형태소 분석한 결과가 2차원 리스트이기 때문에 이중반복문으로 , stop에 포함되는 단어는\n",
    "* dataset에서 제거"
   ]
  },
  {
   "cell_type": "markdown",
   "metadata": {},
   "source": [
    "* 제거한 결과"
   ]
  },
  {
   "cell_type": "code",
   "execution_count": 9,
   "metadata": {},
   "outputs": [],
   "source": [
    "####print(dataset[:3])"
   ]
  },
  {
   "cell_type": "markdown",
   "metadata": {},
   "source": [
    "# # # # ## # # # ## # # # ## # # # ## # # # #"
   ]
  },
  {
   "cell_type": "markdown",
   "metadata": {},
   "source": [
    "dataset= 2차원 리스트(데이터셋) , stop=1차원리스트(제거단어목록)"
   ]
  },
  {
   "cell_type": "markdown",
   "metadata": {},
   "source": [
    "* 불용어 제거 알고리즘 논리 검증"
   ]
  },
  {
   "cell_type": "code",
   "execution_count": 12,
   "metadata": {},
   "outputs": [],
   "source": [
    "a = [[1,2,3,4],[2,3,4,5],[3,4,5,6]]"
   ]
  },
  {
   "cell_type": "code",
   "execution_count": 13,
   "metadata": {},
   "outputs": [],
   "source": [
    "b = [2,3]"
   ]
  },
  {
   "cell_type": "code",
   "execution_count": 14,
   "metadata": {},
   "outputs": [
    {
     "data": {
      "text/plain": [
       "[[1, 2, 3, 4], [2, 3, 4, 5], [3, 4, 5, 6]]"
      ]
     },
     "execution_count": 14,
     "metadata": {},
     "output_type": "execute_result"
    }
   ],
   "source": [
    "a"
   ]
  },
  {
   "cell_type": "code",
   "execution_count": 15,
   "metadata": {},
   "outputs": [],
   "source": [
    "for i in range(len(a)):\n",
    "    for j in range(len(a[i])):\n",
    "        for k in b :\n",
    "            if k in a[i]:\n",
    "                a[i].remove(k)"
   ]
  },
  {
   "cell_type": "markdown",
   "metadata": {},
   "source": [
    "for i in range (len(a)):\n",
    "    for j in range (len(a[i])):\n",
    "        for k in b:\n",
    "            if k in a[i]:\n",
    "                a[i].remove(k)"
   ]
  },
  {
   "cell_type": "code",
   "execution_count": 16,
   "metadata": {},
   "outputs": [
    {
     "data": {
      "text/plain": [
       "[[1, 4], [4, 5], [4, 5, 6]]"
      ]
     },
     "execution_count": 16,
     "metadata": {},
     "output_type": "execute_result"
    }
   ],
   "source": [
    "a"
   ]
  },
  {
   "cell_type": "markdown",
   "metadata": {},
   "source": [
    "* 불용어 제거 알고리즘 검증 종료\n"
   ]
  },
  {
   "cell_type": "markdown",
   "metadata": {},
   "source": [
    "# # # # ## # # # ## # # # ## # # # ## # # # #"
   ]
  },
  {
   "cell_type": "code",
   "execution_count": 10,
   "metadata": {},
   "outputs": [
    {
     "data": {
      "text/plain": [
       "list"
      ]
     },
     "execution_count": 10,
     "metadata": {},
     "output_type": "execute_result"
    }
   ],
   "source": [
    "type(dataset)"
   ]
  },
  {
   "cell_type": "markdown",
   "metadata": {},
   "source": [
    "분석을 위해서는 데이터 셋의 형태가 list형태여야 한다."
   ]
  },
  {
   "cell_type": "markdown",
   "metadata": {},
   "source": [
    "# # # # ## # # # ## # # # ## # # # ## # # # #"
   ]
  },
  {
   "cell_type": "markdown",
   "metadata": {},
   "source": [
    "데이터 자료형 변경 방법"
   ]
  },
  {
   "cell_type": "markdown",
   "metadata": {},
   "source": [
    "* kick(리스트) 을 문자열 형태로 바꾸기 위해 str함수 사용"
   ]
  },
  {
   "cell_type": "markdown",
   "metadata": {},
   "source": [
    "* kick1=str(kick)"
   ]
  },
  {
   "cell_type": "markdown",
   "metadata": {},
   "source": [
    "* a=eval(kick1)"
   ]
  },
  {
   "cell_type": "markdown",
   "metadata": {},
   "source": [
    "* 문자열 형태인 Kick1을 분석을 위해 다시 eval 함수를 이용해 리스트 형태로 변환"
   ]
  },
  {
   "cell_type": "markdown",
   "metadata": {},
   "source": [
    "# # # # ## # # # ## # # # ## # # # #"
   ]
  },
  {
   "cell_type": "code",
   "execution_count": 53,
   "metadata": {},
   "outputs": [],
   "source": [
    "####dataset[:3]"
   ]
  },
  {
   "cell_type": "markdown",
   "metadata": {},
   "source": [
    "* mlxtend 라이브러리 사용 - 일상적 분석에 유용 - 자주사용하자"
   ]
  },
  {
   "cell_type": "code",
   "execution_count": 11,
   "metadata": {},
   "outputs": [],
   "source": [
    "from mlxtend.preprocessing import TransactionEncoder\n",
    "from mlxtend.frequent_patterns import apriori"
   ]
  },
  {
   "cell_type": "code",
   "execution_count": 12,
   "metadata": {},
   "outputs": [],
   "source": [
    "te=TransactionEncoder()\n",
    "te_ary=te.fit(dataset).transform(dataset)"
   ]
  },
  {
   "cell_type": "code",
   "execution_count": 13,
   "metadata": {},
   "outputs": [
    {
     "data": {
      "text/plain": [
       "array([[False, False, False, ..., False, False, False],\n",
       "       [False, False, False, ..., False, False, False],\n",
       "       [False, False, False, ..., False, False, False],\n",
       "       ...,\n",
       "       [False, False, False, ..., False, False, False],\n",
       "       [False, False, False, ..., False, False, False],\n",
       "       [False, False, False, ..., False, False, False]])"
      ]
     },
     "execution_count": 13,
     "metadata": {},
     "output_type": "execute_result"
    }
   ],
   "source": [
    "te_ary"
   ]
  },
  {
   "cell_type": "markdown",
   "metadata": {},
   "source": [
    "* 135개 줄의 데이터 셋 을 형태소 분석한 결과에서\n",
    "* 각 줄에서 각 단어가 포함되어 있으면 True,단어가 포함되어 있지 않으면 False \n",
    "\n",
    "EX) \n",
    "1. 나라, 사랑\n",
    "2. 사랑. 바다\n",
    "\n",
    "\n",
    "* 결과\n",
    "\n",
    "    나라   /    사랑    /   바다\n",
    "1.  True   /    True    /   False\n",
    "2.  False  /    True    /   True"
   ]
  },
  {
   "cell_type": "code",
   "execution_count": 14,
   "metadata": {},
   "outputs": [],
   "source": [
    "df=pd.DataFrame(te_ary,columns=te.columns_)"
   ]
  },
  {
   "cell_type": "code",
   "execution_count": 54,
   "metadata": {},
   "outputs": [],
   "source": [
    "###df"
   ]
  },
  {
   "cell_type": "markdown",
   "metadata": {},
   "source": [
    "* 결과값을 DataFrame 으로 만들었음"
   ]
  },
  {
   "cell_type": "markdown",
   "metadata": {},
   "source": [
    "mlxtend 를 이용해서 형태 변환\n",
    "\n",
    "각 문장에 단어들이 있는지 없는지를 TRUE,False로 표현"
   ]
  },
  {
   "cell_type": "markdown",
   "metadata": {},
   "source": [
    "# # # # ## # # # ## # # # ## # # # ## # # # #"
   ]
  },
  {
   "cell_type": "markdown",
   "metadata": {},
   "source": [
    "연관성 분석 시작"
   ]
  },
  {
   "cell_type": "code",
   "execution_count": 15,
   "metadata": {},
   "outputs": [],
   "source": [
    "itemset = apriori(df,min_support=0.05, use_colnames=True)\n",
    "###itemset"
   ]
  },
  {
   "cell_type": "markdown",
   "metadata": {},
   "source": [
    "* 전체 조합에 대해서 지지도를 보았음"
   ]
  },
  {
   "cell_type": "code",
   "execution_count": 16,
   "metadata": {},
   "outputs": [],
   "source": [
    "from apyori import apriori"
   ]
  },
  {
   "cell_type": "markdown",
   "metadata": {},
   "source": [
    "* 위에서 apriori로 만든 지지도 0.05 이상인 녀석, 조합들을 itemset에 넣음"
   ]
  },
  {
   "cell_type": "code",
   "execution_count": 20,
   "metadata": {},
   "outputs": [
    {
     "data": {
      "text/html": [
       "<div>\n",
       "<style scoped>\n",
       "    .dataframe tbody tr th:only-of-type {\n",
       "        vertical-align: middle;\n",
       "    }\n",
       "\n",
       "    .dataframe tbody tr th {\n",
       "        vertical-align: top;\n",
       "    }\n",
       "\n",
       "    .dataframe thead th {\n",
       "        text-align: right;\n",
       "    }\n",
       "</style>\n",
       "<table border=\"1\" class=\"dataframe\">\n",
       "  <thead>\n",
       "    <tr style=\"text-align: right;\">\n",
       "      <th></th>\n",
       "      <th>antecedents</th>\n",
       "      <th>consequents</th>\n",
       "      <th>antecedent support</th>\n",
       "      <th>consequent support</th>\n",
       "      <th>support</th>\n",
       "      <th>confidence</th>\n",
       "      <th>lift</th>\n",
       "      <th>leverage</th>\n",
       "      <th>conviction</th>\n",
       "    </tr>\n",
       "  </thead>\n",
       "  <tbody>\n",
       "    <tr>\n",
       "      <th>0</th>\n",
       "      <td>(개)</td>\n",
       "      <td>(데이터)</td>\n",
       "      <td>0.088889</td>\n",
       "      <td>0.525926</td>\n",
       "      <td>0.059259</td>\n",
       "      <td>0.666667</td>\n",
       "      <td>1.267606</td>\n",
       "      <td>0.012510</td>\n",
       "      <td>1.422222</td>\n",
       "    </tr>\n",
       "    <tr>\n",
       "      <th>1</th>\n",
       "      <td>(데이터)</td>\n",
       "      <td>(개)</td>\n",
       "      <td>0.525926</td>\n",
       "      <td>0.088889</td>\n",
       "      <td>0.059259</td>\n",
       "      <td>0.112676</td>\n",
       "      <td>1.267606</td>\n",
       "      <td>0.012510</td>\n",
       "      <td>1.026808</td>\n",
       "    </tr>\n",
       "    <tr>\n",
       "      <th>2</th>\n",
       "      <td>(개)</td>\n",
       "      <td>(인공지능)</td>\n",
       "      <td>0.088889</td>\n",
       "      <td>0.311111</td>\n",
       "      <td>0.059259</td>\n",
       "      <td>0.666667</td>\n",
       "      <td>2.142857</td>\n",
       "      <td>0.031605</td>\n",
       "      <td>2.066667</td>\n",
       "    </tr>\n",
       "    <tr>\n",
       "      <th>3</th>\n",
       "      <td>(인공지능)</td>\n",
       "      <td>(개)</td>\n",
       "      <td>0.311111</td>\n",
       "      <td>0.088889</td>\n",
       "      <td>0.059259</td>\n",
       "      <td>0.190476</td>\n",
       "      <td>2.142857</td>\n",
       "      <td>0.031605</td>\n",
       "      <td>1.125490</td>\n",
       "    </tr>\n",
       "    <tr>\n",
       "      <th>4</th>\n",
       "      <td>(검증)</td>\n",
       "      <td>(결정)</td>\n",
       "      <td>0.288889</td>\n",
       "      <td>0.074074</td>\n",
       "      <td>0.051852</td>\n",
       "      <td>0.179487</td>\n",
       "      <td>2.423077</td>\n",
       "      <td>0.030453</td>\n",
       "      <td>1.128472</td>\n",
       "    </tr>\n",
       "    <tr>\n",
       "      <th>5</th>\n",
       "      <td>(결정)</td>\n",
       "      <td>(검증)</td>\n",
       "      <td>0.074074</td>\n",
       "      <td>0.288889</td>\n",
       "      <td>0.051852</td>\n",
       "      <td>0.700000</td>\n",
       "      <td>2.423077</td>\n",
       "      <td>0.030453</td>\n",
       "      <td>2.370370</td>\n",
       "    </tr>\n",
       "  </tbody>\n",
       "</table>\n",
       "</div>"
      ],
      "text/plain": [
       "  antecedents consequents  antecedent support  consequent support   support  \\\n",
       "0         (개)       (데이터)            0.088889            0.525926  0.059259   \n",
       "1       (데이터)         (개)            0.525926            0.088889  0.059259   \n",
       "2         (개)      (인공지능)            0.088889            0.311111  0.059259   \n",
       "3      (인공지능)         (개)            0.311111            0.088889  0.059259   \n",
       "4        (검증)        (결정)            0.288889            0.074074  0.051852   \n",
       "5        (결정)        (검증)            0.074074            0.288889  0.051852   \n",
       "\n",
       "   confidence      lift  leverage  conviction  \n",
       "0    0.666667  1.267606  0.012510    1.422222  \n",
       "1    0.112676  1.267606  0.012510    1.026808  \n",
       "2    0.666667  2.142857  0.031605    2.066667  \n",
       "3    0.190476  2.142857  0.031605    1.125490  \n",
       "4    0.179487  2.423077  0.030453    1.128472  \n",
       "5    0.700000  2.423077  0.030453    2.370370  "
      ]
     },
     "execution_count": 20,
     "metadata": {},
     "output_type": "execute_result"
    }
   ],
   "source": [
    "from mlxtend.frequent_patterns import association_rules\n",
    "\n",
    "a= association_rules(itemset, metric=\"confidence\", min_threshold=0.05) \n",
    "type(a)\n",
    "a[:6]"
   ]
  },
  {
   "cell_type": "markdown",
   "metadata": {},
   "source": [
    "* itemset에 등장하는 녀석들을 가지고 새로운 조합을 만들어서 지지도 향상도 등을 본다.\n",
    "* antecendent(전항) 과 consequent(후항) 에 대한 지지도, 향상도 등을 볼 수 있음"
   ]
  },
  {
   "cell_type": "code",
   "execution_count": 27,
   "metadata": {},
   "outputs": [],
   "source": [
    "a.to_csv('asd.csv',encoding='EUC-KR')"
   ]
  },
  {
   "cell_type": "markdown",
   "metadata": {},
   "source": [
    "# ###################################"
   ]
  },
  {
   "cell_type": "markdown",
   "metadata": {},
   "source": [
    "* 최소 지지도 0.05 이상인 조합들을 찾아냄"
   ]
  },
  {
   "cell_type": "markdown",
   "metadata": {},
   "source": [
    "* 항목개수가 2개이고 최소 지지도가 0.05 이상인 것들을 추려냄"
   ]
  },
  {
   "cell_type": "markdown",
   "metadata": {},
   "source": [
    "* 데이터셋 골라내는 방법은 check\n",
    "* df['length']==2     \n",
    "* 길이가 2개인것\n",
    "* df['support']>=0.05\n",
    "* 지지도가 0.05 이상인것"
   ]
  },
  {
   "cell_type": "code",
   "execution_count": 21,
   "metadata": {},
   "outputs": [],
   "source": [
    "result=(list(apriori(dataset, min_support=0.05)))\n",
    "df=pd.DataFrame(result)\n",
    "\n",
    "\n",
    "df['length']=df['items'].apply(lambda x:len(x))\n",
    "df=df[(df['length']==2)&\n",
    "     (df['support']>=0.05)].sort_values(by='support',ascending=False)\n",
    "###df"
   ]
  },
  {
   "cell_type": "code",
   "execution_count": 62,
   "metadata": {},
   "outputs": [],
   "source": [
    "###df[:100]"
   ]
  },
  {
   "cell_type": "code",
   "execution_count": 30,
   "metadata": {},
   "outputs": [],
   "source": [
    "df.to_csv('asdv.csv',encoding='EUC-KR')"
   ]
  },
  {
   "cell_type": "markdown",
   "metadata": {},
   "source": [
    "* networkx 는 그래프와 네트워크 연구를 위한 라이브러리"
   ]
  },
  {
   "cell_type": "code",
   "execution_count": 31,
   "metadata": {},
   "outputs": [],
   "source": [
    "import networkx as nx"
   ]
  },
  {
   "cell_type": "code",
   "execution_count": 32,
   "metadata": {},
   "outputs": [],
   "source": [
    "import numpy as np"
   ]
  },
  {
   "cell_type": "code",
   "execution_count": 33,
   "metadata": {},
   "outputs": [],
   "source": [
    "G=nx.Graph()\n",
    "ar=(df['items']); G.add_edges_from(ar)"
   ]
  },
  {
   "cell_type": "markdown",
   "metadata": {},
   "source": [
    "* 그래프 정의"
   ]
  },
  {
   "cell_type": "code",
   "execution_count": 34,
   "metadata": {},
   "outputs": [],
   "source": [
    "pr=nx.pagerank(G)\n",
    "nsize = np.array([v for v in pr.values()])\n",
    "nsize = 2000*(nsize-min(nsize)) / (max(nsize)-min(nsize))"
   ]
  },
  {
   "cell_type": "markdown",
   "metadata": {},
   "source": [
    "* 크기와 색깔 설정"
   ]
  },
  {
   "cell_type": "code",
   "execution_count": 35,
   "metadata": {},
   "outputs": [],
   "source": [
    "pos = nx.circular_layout(G)"
   ]
  },
  {
   "cell_type": "markdown",
   "metadata": {},
   "source": [
    "* 레이아웃 형태 설정 - 다양한 형태의 레이아웃이 있음\n"
   ]
  },
  {
   "cell_type": "code",
   "execution_count": 36,
   "metadata": {},
   "outputs": [],
   "source": [
    "# pos =nx.planar_layout(G)\n",
    "# pos =nx.rescale_layout(G)\n",
    "# pos =nx.fruchterman_reingold_layout(G)\n",
    "# pos =nx.spectral_layout(G)\n",
    "# pos =nx.random_layout(G)\n",
    "# pos =nx.shell_layout(G)\n",
    "# pos =nx.bipartile_layout(G)\n",
    "# pos =nx.circular_layout(G)\n",
    "# pos =nx.spring_layout(G)\n",
    "# pos =nx.kamada_kawai_layout(G)\n"
   ]
  },
  {
   "cell_type": "code",
   "execution_count": 37,
   "metadata": {},
   "outputs": [],
   "source": [
    "import matplotlib.pyplot as plt\n",
    "import matplotlib.font_manager as fm\n",
    "import matplotlib as mpl"
   ]
  },
  {
   "cell_type": "markdown",
   "metadata": {},
   "source": [
    "* 결과 시각화 위한 툴 임포트"
   ]
  },
  {
   "cell_type": "code",
   "execution_count": 38,
   "metadata": {},
   "outputs": [],
   "source": [
    "%matplotlib inline"
   ]
  },
  {
   "cell_type": "markdown",
   "metadata": {},
   "source": [
    "* 시각화 오류 해결에 도움"
   ]
  },
  {
   "cell_type": "markdown",
   "metadata": {},
   "source": [
    "# # # # ## # # # ## # # # ## # # # ## # # # #"
   ]
  },
  {
   "cell_type": "markdown",
   "metadata": {},
   "source": [
    "텍스트 오류 잡기!!!!!\n"
   ]
  },
  {
   "cell_type": "code",
   "execution_count": 39,
   "metadata": {},
   "outputs": [
    {
     "data": {
      "text/plain": [
       "Text(0.5, 1.0, '오이오이')"
      ]
     },
     "execution_count": 39,
     "metadata": {},
     "output_type": "execute_result"
    },
    {
     "data": {
      "image/png": "[encoded data removed]",
      "text/plain": [
       "<Figure size 432x288 with 1 Axes>"
      ]
     },
     "metadata": {
      "needs_background": "light"
     },
     "output_type": "display_data"
    }
   ],
   "source": [
    "plt.rc('font', family='Malgun Gothic')\n",
    "plt.title('오이오이')"
   ]
  },
  {
   "cell_type": "markdown",
   "metadata": {},
   "source": [
    "# # # # ## # # # ## # # # ## # # # #"
   ]
  },
  {
   "cell_type": "code",
   "execution_count": 40,
   "metadata": {},
   "outputs": [],
   "source": [
    "import matplotlib.font_manager as fm\n",
    "\n",
    "from matplotlib import rc\n",
    "\n",
    "font_name = fm.FontProperties(fname=\"c:/Windows/Fonts/malgun.ttf\").get_name()\n",
    "\n",
    "rc('font', family=font_name)"
   ]
  },
  {
   "cell_type": "markdown",
   "metadata": {},
   "source": [
    "네트워크 그리기!"
   ]
  },
  {
   "cell_type": "code",
   "execution_count": 41,
   "metadata": {},
   "outputs": [
    {
     "data": {
      "image/png": "[encoded data removed]",
      "text/plain": [
       "<Figure size 1152x864 with 1 Axes>"
      ]
     },
     "metadata": {},
     "output_type": "display_data"
    }
   ],
   "source": [
    "plt.figure(figsize=(16,12)); plt.axis('off')\n",
    "pos = nx.spring_layout(G)\n",
    "\n",
    "nx.draw_networkx(G, font_family='Malgun Gothic', font_size=16,\n",
    "                pos=pos, node_color=list(pr.values()),node_size=nsize,\n",
    "                alpha=0.7, edge_color='.5',cmap=plt.cm.YlGn)\n",
    "plt.savefig('img.png',bbox_inches='tight')"
   ]
  },
  {
   "cell_type": "markdown",
   "metadata": {},
   "source": [
    "* 분석결과 특정 주제를 찾아내기가 어려웠다."
   ]
  },
  {
   "cell_type": "markdown",
   "metadata": {},
   "source": [
    "* 빈도분석결과 주제 들 중 빈도수가 높은 치아, 호흡, 혈액, 투석 텍스트데이터셋에 대해 2차 분석을 진행 해야 함"
   ]
  },
  {
   "cell_type": "code",
   "execution_count": null,
   "metadata": {},
   "outputs": [],
   "source": []
  }
 ],
 "metadata": {
  "kernelspec": {
   "display_name": "Python 3",
   "language": "python",
   "name": "python3"
  },
  "language_info": {
   "codemirror_mode": {
    "name": "ipython",
    "version": 3
   },
   "file_extension": ".py",
   "mimetype": "text/x-python",
   "name": "python",
   "nbconvert_exporter": "python",
   "pygments_lexer": "ipython3",
   "version": "3.7.0"
  }
 },
 "nbformat": 4,
 "nbformat_minor": 4
}
